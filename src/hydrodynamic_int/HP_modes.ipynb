{
 "cells": [
  {
   "cell_type": "code",
   "execution_count": null,
   "id": "993e89a0",
   "metadata": {},
   "outputs": [],
   "source": [
    "from particles_mod.HalfPipe import *\n",
    "\n",
    "length = 10\n",
    "\n",
    "positions, bonds = construct_structure()"
   ]
  }
 ],
 "metadata": {
  "language_info": {
   "name": "python"
  }
 },
 "nbformat": 4,
 "nbformat_minor": 5
}
