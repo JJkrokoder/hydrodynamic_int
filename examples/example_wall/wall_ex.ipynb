{
 "cells": [
  {
   "cell_type": "markdown",
   "metadata": {},
   "source": [
    "# My Wall Project"
   ]
  },
  {
   "cell_type": "markdown",
   "metadata": {},
   "source": [
    "# Libraries"
   ]
  },
  {
   "cell_type": "code",
   "execution_count": 21,
   "metadata": {},
   "outputs": [],
   "source": [
    "import numpy as np"
   ]
  },
  {
   "cell_type": "markdown",
   "metadata": {},
   "source": [
    "# Functions"
   ]
  },
  {
   "cell_type": "code",
   "execution_count": 22,
   "metadata": {},
   "outputs": [],
   "source": [
    "# Create wall particles' positions array\n",
    "def create_square_wall(wall_side, density):\n",
    "    \"\"\"\n",
    "    Create wall particles' positions array\n",
    "    :param wall_length: Length of the wall.\n",
    "    :param wall_width: Width of the wall.\n",
    "    :param wall_height: Height of the wall.\n",
    "    \"\"\"\n",
    "    # Stablish number of particles per side\n",
    "    n = int(wall_side**2 * density)\n",
    "    nx = int(np.sqrt(n))\n",
    "    n = nx**2\n",
    "    sep = wall_side / nx\n",
    "\n",
    "    # Create positions\n",
    "    pos = np.array(\n",
    "        [\n",
    "            [i * sep - wall_side * 0.5, j * sep - wall_side * 0.5, 0.0]\n",
    "            for i in range(nx)\n",
    "            for j in range(nx)]\n",
    "    )\n",
    "    return pos\n",
    "\n",
    "# Create bulk particles' positions array\n",
    "def create_bulk(side, depth, density):\n",
    "    \"\"\"\n",
    "    Create bulk particles' positions array\n",
    "    :param side: Length of the bulk.\n",
    "    :param depth: Depth of the bulk.\n",
    "    \"\"\"\n",
    "    # Stablish number of particles per side\n",
    "    nxy = int(np.sqrt(np.cbrt(density) ** 2 * side * side)) # Number of particles in the XY plane\n",
    "    nz = int(np.cbrt(density) * depth)                 # Number of particles in the Z direction\n",
    "    n = nxy * nxy * nz\n",
    "    x = np.linspace(-side * 0.5, side * 0.5, nxy)\n",
    "    y = x.copy()\n",
    "    z = np.linspace(-depth, 0, nz)\n",
    "    pos = np.array(\n",
    "        [\n",
    "            [i, j, k]\n",
    "            for i in x\n",
    "            for j in y\n",
    "            for k in z]\n",
    "    )\n",
    "    return pos\n",
    "\n",
    "def select_y0_ids (all_pos):\n",
    "    \"\"\"\n",
    "    Create a set of specific ids for tracking particles at y = 0\n",
    "    :param all_pos: Positions of all particles.\n",
    "    \"\"\"\n",
    "    # Create a set of specific ids for tracking particles at y = 0\n",
    "    y0cut_ids = np.where(np.isclose(all_pos[:, 1], 0.0, atol=0.5))[0]\n",
    "    return y0cut_ids"
   ]
  },
  {
   "cell_type": "markdown",
   "metadata": {},
   "source": [
    "# System Initialization"
   ]
  },
  {
   "cell_type": "code",
   "execution_count": 23,
   "metadata": {},
   "outputs": [],
   "source": [
    "# Particle types\n",
    "'''\n",
    "The properties labels and properties values for each type must be specified.\n",
    "'''\n",
    "particle_types = {\n",
    "    'wall': {\n",
    "        'mass': 1.0,\n",
    "        'radius': 0.5,\n",
    "        # Black color\n",
    "        'color': \"#000000\"  # Black\n",
    "    },\n",
    "    'bulk': {\n",
    "        'mass': 1.0,\n",
    "        'radius': 0.5,\n",
    "        # Dark blue color\n",
    "        'color': \"#00008B\"  # Dark blue\n",
    "    },\n",
    "    'puller': {\n",
    "        'mass': 5.0,\n",
    "        'radius': 0.5 * 5.0,  # Use its own mass as multiplicator\n",
    "        # Red color\n",
    "        'color': \"#FF0000\",  # Red\n",
    "    },\n",
    "}"
   ]
  },
  {
   "cell_type": "markdown",
   "metadata": {},
   "source": [
    "# System Structure"
   ]
  },
  {
   "cell_type": "code",
   "execution_count": 24,
   "metadata": {},
   "outputs": [],
   "source": [
    "# Geometry Parameters\n",
    "wall_side = 10.0\n",
    "wall_density = 1.0\n",
    "bulk_side = wall_side\n",
    "bulk_depth = 10.0\n",
    "bulk_density = 1.0\n",
    "puller_height = 1.0\n",
    "\n",
    "# Create positions\n",
    "wall_pos = create_square_wall(wall_side, wall_density)\n",
    "bulk_pos = create_bulk(bulk_side, bulk_depth, bulk_density) - np.array([0.0, 0.0, 2*particle_types['wall']['radius']])\n",
    "# Assert that the bulk particles are below the wall\n",
    "assert np.all(bulk_pos[:, 2] < wall_pos[:, 2].min()), \"Bulk particles are not below the wall\"\n",
    "# Create puller particle position\n",
    "puller_pos = np.array([[0.0, 0.0, puller_height]])\n",
    "\n",
    "# Create system particles' positions array\n",
    "all_pos = np.vstack((wall_pos, bulk_pos, puller_pos))"
   ]
  },
  {
   "cell_type": "markdown",
   "metadata": {},
   "source": [
    "# Type assigning"
   ]
  },
  {
   "cell_type": "code",
   "execution_count": 25,
   "metadata": {},
   "outputs": [],
   "source": [
    "# Assign particle types\n",
    "all_types = np.array(\n",
    "    [\n",
    "        'wall' for _ in range(len(wall_pos))\n",
    "    ] + [\n",
    "        'bulk' for _ in range(len(bulk_pos))\n",
    "    ] + [\n",
    "        'puller' for _ in range(len(puller_pos))\n",
    "    ]\n",
    ")"
   ]
  },
  {
   "cell_type": "markdown",
   "metadata": {},
   "source": [
    "# Interactions"
   ]
  },
  {
   "cell_type": "markdown",
   "metadata": {},
   "source": [
    "# Tracking groups"
   ]
  },
  {
   "cell_type": "code",
   "execution_count": null,
   "metadata": {},
   "outputs": [
    {
     "name": "stdout",
     "output_type": "stream",
     "text": [
      "[   5   15   25   35   45   55   65   75   85   95 1100]\n",
      "[0. 0. 0. 0. 0. 0. 0. 0. 0. 0. 0.]\n"
     ]
    }
   ],
   "source": [
    "# (The whole system is always tracked by default)\n",
    "\n",
    "# A set of specific ids (from the all_pos system's array) is created for tracking\n",
    "\n",
    "# Create a set of specific ids for wall particles\n",
    "wall_ids = np.arange(len(wall_pos))\n",
    "# Create a set of specific ids for bulk particles\n",
    "bulk_ids = np.arange(len(wall_pos), len(wall_pos) + len(bulk_pos))\n",
    "# Create a set of specific ids for puller particles\n",
    "puller_ids = np.arange(len(wall_pos) + len(bulk_pos), len(all_pos))\n",
    "\n",
    "# Create a set of specific ids for tracking particles at y = 0\n",
    "y0cut_ids = select_y0_ids (all_pos)\n"
   ]
  }
 ],
 "metadata": {
  "kernelspec": {
   "display_name": "hydint_env",
   "language": "python",
   "name": "python3"
  },
  "language_info": {
   "codemirror_mode": {
    "name": "ipython",
    "version": 3
   },
   "file_extension": ".py",
   "mimetype": "text/x-python",
   "name": "python",
   "nbconvert_exporter": "python",
   "pygments_lexer": "ipython3",
   "version": "3.12.9"
  }
 },
 "nbformat": 4,
 "nbformat_minor": 2
}
